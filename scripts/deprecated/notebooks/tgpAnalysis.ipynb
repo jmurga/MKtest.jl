{
 "cells": [
  {
   "cell_type": "code",
   "execution_count": 1,
   "metadata": {},
   "outputs": [
    {
     "data": {
      "text/plain": [
       "\"/home/jmurga/mkt/202004/\""
      ]
     },
     "execution_count": 1,
     "metadata": {},
     "output_type": "execute_result"
    }
   ],
   "source": [
    "using Distributed\n",
    "addprocs(22)\n",
    "\n",
    "@everywhere using Analytical, CSV, DataFrames, JLD2, ProgressMeter\n",
    "PATH = \"/home/jmurga/mkt/202004/\"\n",
    "Analytical.sourcePlotMapR(script=\"/home/jmurga/script.jl\")"
   ]
  },
  {
   "cell_type": "markdown",
   "metadata": {},
   "source": [
    "We have used R to get the Maximum A Posteriori following ABCreg examples."
   ]
  },
  {
   "cell_type": "code",
   "execution_count": 2,
   "metadata": {},
   "outputs": [],
   "source": [
    "adap = Analytical.parameters(N=1000,n=661)"
   ]
  },
  {
   "cell_type": "code",
   "execution_count": 3,
   "metadata": {},
   "outputs": [
    {
     "data": {
      "text/plain": [
       "9-element Array{Int64,1}:\n",
       "    2\n",
       "    4\n",
       "    5\n",
       "   10\n",
       "   20\n",
       "   50\n",
       "  200\n",
       "  500\n",
       " 1000"
      ]
     },
     "execution_count": 3,
     "metadata": {},
     "output_type": "execute_result"
    }
   ],
   "source": [
    "h5file   = jldopen(PATH * \"rawData/tgp_v1.jld2\")\n",
    "adap.dac = h5file[\"1000/661/dac\"]"
   ]
  },
  {
   "cell_type": "markdown",
   "metadata": {
    "tags": []
   },
   "source": [
    "# Whole-genome"
   ]
  },
  {
   "cell_type": "code",
   "execution_count": null,
   "metadata": {},
   "outputs": [],
   "source": [
    "analysisFolder = PATH * \"rawData/summStat/tgp/wg/\""
   ]
  },
  {
   "cell_type": "code",
   "execution_count": null,
   "metadata": {},
   "outputs": [],
   "source": [
    "wg = Analytical.parseSfs(sample=661,data= PATH *\"rawData/tgp/wg.tsv\",dac=adap.dac)"
   ]
  },
  {
   "cell_type": "markdown",
   "metadata": {},
   "source": [
    "Writting SFS and divergence file in new foder analysis"
   ]
  },
  {
   "cell_type": "code",
   "execution_count": null,
   "metadata": {},
   "outputs": [],
   "source": [
    "run(`mkdir -p $analysisFolder`)\n",
    "CSV.write(analysisFolder * \"/sfsWg.tsv\",DataFrame(wg[4],[:f,:pi,:p0]),delim='\\t')\n",
    "CSV.write(analysisFolder * \"/divWg.tsv\",DataFrame(wg[5]',[:di,:d0]),delim='\\t')"
   ]
  },
  {
   "cell_type": "markdown",
   "metadata": {},
   "source": [
    "Bootstrapping data following polyDFE manual and estimating summary statistics"
   ]
  },
  {
   "cell_type": "code",
   "execution_count": null,
   "metadata": {},
   "outputs": [],
   "source": [
    "@time summstat = Analytical.summaryStatsFromRates(param=adap,rates=h5file,analysisFolder=analysisFolder,summstatSize=5*10^5,replicas=100,bootstrap=true);"
   ]
  },
  {
   "cell_type": "markdown",
   "metadata": {},
   "source": [
    "Performing inference"
   ]
  },
  {
   "cell_type": "code",
   "execution_count": null,
   "metadata": {},
   "outputs": [],
   "source": [
    "Analytical.ABCreg(analysis=analysisFolder,replicas=100,P=5,S=size(adap.dac,1),tol=0.002,workers=20,abcreg=\"/home/jmurga/ABCreg/src/reg\",parallel=true);"
   ]
  },
  {
   "cell_type": "markdown",
   "metadata": {},
   "source": [
    "Estimating MAP distribution"
   ]
  },
  {
   "cell_type": "code",
   "execution_count": null,
   "metadata": {},
   "outputs": [],
   "source": [
    "wgmap = Analytical.plotMap(analysis=analysisFolder,output = PATH * \"results/abc/tgp/wg_map.svg\");\n",
    "describe(wgmap)"
   ]
  },
  {
   "cell_type": "code",
   "execution_count": null,
   "metadata": {},
   "outputs": [],
   "source": [
    "CSV.write(PATH * \"results/abc/tgp/wg_map.tsv\",wgmap,delim='\\t')"
   ]
  },
  {
   "cell_type": "markdown",
   "metadata": {
    "tags": []
   },
   "source": [
    "# VIPs"
   ]
  },
  {
   "cell_type": "code",
   "execution_count": null,
   "metadata": {},
   "outputs": [],
   "source": [
    "analysisFolder = PATH * \"rawData/summStat/tgp/vips/\""
   ]
  },
  {
   "cell_type": "code",
   "execution_count": null,
   "metadata": {},
   "outputs": [],
   "source": [
    "vips = Analytical.parseSfs(sample=661,data= PATH *\"rawData/tgp/vips.tsv\",dac=adap.dac)"
   ]
  },
  {
   "cell_type": "markdown",
   "metadata": {},
   "source": [
    "Writting SFS and divergence file in new foder analysis"
   ]
  },
  {
   "cell_type": "code",
   "execution_count": null,
   "metadata": {},
   "outputs": [],
   "source": [
    "run(`mkdir -p $analysisFolder`)\n",
    "CSV.write(analysisFolder * \"/sfsVips.tsv\",DataFrame(vips[2],[:f,:pi,:p0]),delim='\\t')\n",
    "CSV.write(analysisFolder * \"/divVips.tsv\",DataFrame(vips[3]',[:di,:d0]),delim='\\t')"
   ]
  },
  {
   "cell_type": "markdown",
   "metadata": {},
   "source": [
    "Bootstrapping data following polyDFE manual and estimating summary statistics"
   ]
  },
  {
   "cell_type": "code",
   "execution_count": null,
   "metadata": {},
   "outputs": [],
   "source": [
    "@time summstat = Analytical.summaryStatsFromRates(param=adap,rates=h5file,analysisFolder=analysisFolder,summstatSize=5*10^5,replicas=100,bootstrap=true);"
   ]
  },
  {
   "cell_type": "markdown",
   "metadata": {},
   "source": [
    "Performing inference"
   ]
  },
  {
   "cell_type": "code",
   "execution_count": null,
   "metadata": {},
   "outputs": [],
   "source": [
    "Analytical.ABCreg(analysis=analysisFolder,replicas=100,P=5,S=size(adap.dac,1),tol=0.002,workers=20,abcreg=\"/home/jmurga/ABCreg/src/reg\",parallel=true);"
   ]
  },
  {
   "cell_type": "markdown",
   "metadata": {},
   "source": [
    "Estimating MAP distribution"
   ]
  },
  {
   "cell_type": "code",
   "execution_count": null,
   "metadata": {},
   "outputs": [],
   "source": [
    "vipsmap = Analytical.plotMap(analysis=analysisFolder,output = PATH * \"results/abc/tgp/vips_map.svg\");\n",
    "describe(vipsmap)"
   ]
  },
  {
   "cell_type": "code",
   "execution_count": null,
   "metadata": {},
   "outputs": [],
   "source": [
    "CSV.write(PATH * \"results/abc/tgp/vips_map.tsv\",vipsmap,delim='\\t')"
   ]
  },
  {
   "cell_type": "markdown",
   "metadata": {
    "tags": []
   },
   "source": [
    "# DNA VIPs"
   ]
  },
  {
   "cell_type": "code",
   "execution_count": null,
   "metadata": {},
   "outputs": [],
   "source": [
    "analysisFolder = PATH * \"rawData/summStat/tgp/dna_vips/\""
   ]
  },
  {
   "cell_type": "code",
   "execution_count": null,
   "metadata": {},
   "outputs": [],
   "source": [
    "dnaVips = Analytical.parseSfs(sample=661,data= PATH *\"rawData/tgp/dna_vips.tsv\",dac=adap.dac)"
   ]
  },
  {
   "cell_type": "markdown",
   "metadata": {},
   "source": [
    "Writting SFS and divergence file in new foder analysis"
   ]
  },
  {
   "cell_type": "code",
   "execution_count": null,
   "metadata": {},
   "outputs": [],
   "source": [
    "run(`mkdir -p $analysisFolder`)\n",
    "CSV.write(analysisFolder * \"/sfsDnaV.tsv\",DataFrame(dnaVips[2],[:f,:pi,:p0]),delim='\\t')\n",
    "CSV.write(analysisFolder * \"/divDnaV.tsv\",DataFrame(dnaVips[3]',[:di,:d0]),delim='\\t')"
   ]
  },
  {
   "cell_type": "markdown",
   "metadata": {},
   "source": [
    "Bootstrapping data following polyDFE manual and estimating summary statistics"
   ]
  },
  {
   "cell_type": "code",
   "execution_count": null,
   "metadata": {},
   "outputs": [],
   "source": [
    "@time summstat = Analytical.summaryStatsFromRates(param=adap,rates=h5file,analysisFolder=analysisFolder,summstatSize=5*10^5,replicas=100,bootstrap=true);"
   ]
  },
  {
   "cell_type": "markdown",
   "metadata": {},
   "source": [
    "Performing inference"
   ]
  },
  {
   "cell_type": "code",
   "execution_count": null,
   "metadata": {},
   "outputs": [],
   "source": [
    "Analytical.ABCreg(analysis=analysisFolder,replicas=100,P=5,S=size(adap.dac,1),tol=0.002,workers=20,abcreg=\"/home/jmurga/ABCreg/src/reg\",parallel=true);"
   ]
  },
  {
   "cell_type": "markdown",
   "metadata": {},
   "source": [
    "Estimating MAP distribution"
   ]
  },
  {
   "cell_type": "code",
   "execution_count": null,
   "metadata": {},
   "outputs": [],
   "source": [
    "dnaVipsMap = Analytical.plotMap(analysis=analysisFolder,output = PATH * \"results/abc/tgp/dna_vips_map.svg\");\n",
    "describe(dnaVipsMap)"
   ]
  },
  {
   "cell_type": "code",
   "execution_count": null,
   "metadata": {},
   "outputs": [],
   "source": [
    "CSV.write(PATH * \"results/abc/tgp/dna_vips_map.tsv\",dnaVipsMap,delim='\\t')"
   ]
  },
  {
   "cell_type": "markdown",
   "metadata": {
    "heading_collapsed": "true",
    "tags": []
   },
   "source": [
    "# RNA VIPs"
   ]
  },
  {
   "cell_type": "code",
   "execution_count": null,
   "metadata": {},
   "outputs": [],
   "source": [
    "analysisFolder = PATH * \"rawData/summStat/tgp/rna_vips/\""
   ]
  },
  {
   "cell_type": "code",
   "execution_count": null,
   "metadata": {},
   "outputs": [],
   "source": [
    "rnaVips = Analytical.parseSfs(sample=661,data= PATH *\"rawData/tgp/rna_vips.tsv\",dac=adap.dac)"
   ]
  },
  {
   "cell_type": "markdown",
   "metadata": {},
   "source": [
    "Writting SFS and divergence file in new foder analysis"
   ]
  },
  {
   "cell_type": "code",
   "execution_count": null,
   "metadata": {},
   "outputs": [],
   "source": [
    "run(`mkdir -p $analysisFolder`)\n",
    "CSV.write(analysisFolder * \"/sfsRnaV.tsv\",DataFrame(rnaVips[2],[:f,:pi,:p0]),delim='\\t')\n",
    "CSV.write(analysisFolder * \"/divRnaV.tsv\",DataFrame(rnaVips[3]',[:di,:d0]),delim='\\t')"
   ]
  },
  {
   "cell_type": "markdown",
   "metadata": {},
   "source": [
    "Bootstrapping data following polyDFE manual and estimating summary statistics"
   ]
  },
  {
   "cell_type": "code",
   "execution_count": null,
   "metadata": {},
   "outputs": [],
   "source": [
    "@time summstat = Analytical.summaryStatsFromRates(param=adap,rates=h5file,analysisFolder=analysisFolder,summstatSize=5*10^5,replicas=100,bootstrap=true);"
   ]
  },
  {
   "cell_type": "markdown",
   "metadata": {},
   "source": [
    "Performing inference"
   ]
  },
  {
   "cell_type": "code",
   "execution_count": null,
   "metadata": {},
   "outputs": [],
   "source": [
    "Analytical.ABCreg(analysis=analysisFolder,replicas=100,P=5,S=size(adap.dac,1),tol=0.002,workers=20,abcreg=\"/home/jmurga/ABCreg/src/reg\",parallel=true);"
   ]
  },
  {
   "cell_type": "markdown",
   "metadata": {},
   "source": [
    "Estimating MAP distribution"
   ]
  },
  {
   "cell_type": "code",
   "execution_count": null,
   "metadata": {},
   "outputs": [],
   "source": [
    "rnaVipsMap = Analytical.plotMap(analysis=analysisFolder,output = PATH * \"results/abc/tgp/rna_vips_map.svg\");\n",
    "describe(rnaVipsMap)"
   ]
  },
  {
   "cell_type": "code",
   "execution_count": null,
   "metadata": {},
   "outputs": [],
   "source": [
    "CSV.write(PATH * \"results/abc/tgp/rna_vips_map.tsv\",rnaVipsMap,delim='\\t')"
   ]
  },
  {
   "cell_type": "markdown",
   "metadata": {
    "heading_collapsed": "true",
    "tags": []
   },
   "source": [
    "# Non-VIPs"
   ]
  },
  {
   "cell_type": "code",
   "execution_count": null,
   "metadata": {},
   "outputs": [],
   "source": [
    "analysisFolder = PATH * \"rawData/summStat/tgp_v2/nonvips/\""
   ]
  },
  {
   "cell_type": "code",
   "execution_count": null,
   "metadata": {},
   "outputs": [],
   "source": [
    "nonvips = Analytical.parseSfs(sample=661,data= PATH *\"rawData/tgp/nonvips.tsv\",dac=adap.dac)"
   ]
  },
  {
   "cell_type": "markdown",
   "metadata": {},
   "source": [
    "Writting SFS and divergence file in new foder analysis"
   ]
  },
  {
   "cell_type": "code",
   "execution_count": null,
   "metadata": {},
   "outputs": [],
   "source": [
    "run(`mkdir -p $analysisFolder`)\n",
    "CSV.write(analysisFolder * \"/sfsNonvips.tsv\",DataFrame(nonvips[2],[:f,:pi,:p0]),delim='\\t')\n",
    "CSV.write(analysisFolder * \"/divNonvips.tsv\",DataFrame(nonvips[3]',[:di,:d0]),delim='\\t')"
   ]
  },
  {
   "cell_type": "markdown",
   "metadata": {},
   "source": [
    "Bootstrapping data following polyDFE manual and estimating summary statistics"
   ]
  },
  {
   "cell_type": "code",
   "execution_count": null,
   "metadata": {},
   "outputs": [],
   "source": [
    "@time summstat = Analytical.summaryStatsFromRates(param=adap,rates=h5file,analysisFolder=analysisFolder,summstatSize=5*10^5,replicas=100,bootstrap=true);"
   ]
  },
  {
   "cell_type": "markdown",
   "metadata": {},
   "source": [
    "Performing inference"
   ]
  },
  {
   "cell_type": "code",
   "execution_count": null,
   "metadata": {},
   "outputs": [],
   "source": [
    "Analytical.ABCreg(analysis=analysisFolder,replicas=100,P=5,S=size(adap.dac,1),tol=0.002,workers=20,abcreg=\"/home/jmurga/ABCreg/src/reg\",parallel=true);"
   ]
  },
  {
   "cell_type": "markdown",
   "metadata": {},
   "source": [
    "Estimating MAP distribution"
   ]
  },
  {
   "cell_type": "code",
   "execution_count": null,
   "metadata": {},
   "outputs": [],
   "source": [
    "nonvipsmap = Analytical.plotMap(analysis=analysisFolder,output = PATH * \"results/abc/tgp/nonvips_map.svg\");\n",
    "describe(nonvipsmap)"
   ]
  },
  {
   "cell_type": "code",
   "execution_count": null,
   "metadata": {},
   "outputs": [],
   "source": [
    "CSV.write(PATH * \"results/abc/tgp/nonvips_map.tsv\",nonvipsmap,delim='\\t')"
   ]
  },
  {
   "cell_type": "markdown",
   "metadata": {
    "tags": []
   },
   "source": [
    "# Plot"
   ]
  },
  {
   "cell_type": "code",
   "execution_count": null,
   "metadata": {},
   "outputs": [],
   "source": [
    "@rput wgmap\n",
    "@rput vipsmap\n",
    "@rput dnaVipsMap\n",
    "@rput rnaVipsMap\n",
    "@rput nonvipsmap\n",
    "@rput PATH"
   ]
  },
  {
   "cell_type": "markdown",
   "metadata": {
    "tags": []
   },
   "source": [
    "## Whole-genome, VIPs, non-VIPs"
   ]
  },
  {
   "cell_type": "code",
   "execution_count": null,
   "metadata": {},
   "outputs": [],
   "source": [
    "R\"\"\"\n",
    "wgmap$analysis = \"Whole-genome dataset\"\n",
    "vipsmap$analysis = \"VIPs dataset\"\n",
    "nonvipsmap$analysis = \"Non-VIPs dataset\"\n",
    "dfAll = as.data.table(rbind(wgmap,vipsmap,nonvipsmap))\n",
    "alphas = dfAll[,c(1:3,6)]\n",
    "names(alphas) = c(paste(expression(alpha[w])),paste(expression(alpha[s])),paste(expression(alpha)),'analysis')\n",
    "\n",
    "alphasPlot = melt(alphas)\n",
    "    \n",
    "tgpPlot = ggplot(alphasPlot) + geom_density(aes(x=value,fill=variable),alpha=0.75) + \n",
    "    facet_wrap(~analysis) + \n",
    "    scale_fill_manual(\"Posterior distribution\",values = paletteSanMiguel,labels=c(expression(paste(\"Posterior \",alpha[w])), expression(paste(\"Posterior \",alpha[s])),expression(paste(\"Posterior \",alpha)))) + \n",
    "xlab(expression(alpha)) + \n",
    "    ylab(\"\") + \n",
    "    theme_bw()\n",
    "\n",
    "fwrite(df,paste0(PATH,'results/abc/tgp_map.tsv'),sep='\\t')\n",
    "ggsave(tgpPlot,filename=paste0(PATH,'results/abc/tgp/tgp_map.svg'),width=14,dpi=600)\n",
    "ggsave(tgpPlot,filename=paste0(PATH,'results/abc/tgp/tgp_map.jpg'),width=14,dpi=600)\n",
    "tgpPlot\n",
    "\"\"\""
   ]
  },
  {
   "cell_type": "code",
   "execution_count": null,
   "metadata": {},
   "outputs": [],
   "source": [
    "R\"\"\"\n",
    "d = melt(dfAll,id.vars='analysis')\n",
    "dfQ = d %>% group_by(analysis,variable) %>% summarize(q=paste0(round(mean(value),3),\" [\",quantile(round(value,3),c(0.1)),\"-\",quantile(round(value,3),0.9),\"]\"))\n",
    "dfQ = reshape2::dcast(dfQ,analysis~variable)\n",
    "\n",
    "fwrite(dfQ,paste0(PATH,'/results/abc/tgp/tgp_comparison_map_quantiles.tsv',sep='\\t'))\n",
    "\"\"\""
   ]
  },
  {
   "cell_type": "markdown",
   "metadata": {
    "tags": []
   },
   "source": [
    "## non-VIPs vs VIPs"
   ]
  },
  {
   "cell_type": "code",
   "execution_count": null,
   "metadata": {},
   "outputs": [],
   "source": [
    "R\"\"\"\n",
    "vipsmap$analysis = \"VIPs dataset\"\n",
    "nonvipsmap$analysis = \"Non-VIPs dataset\"\n",
    "dfAll = as.data.table(rbind(vipsmap,nonvipsmap))\n",
    "alphas = dfAll[,c(1:3,6)]\n",
    "names(alphas) = c(paste(expression(alpha[w])),paste(expression(alpha[s])),paste(expression(alpha)),'analysis')\n",
    "\n",
    "alphasPlot = melt(alphas)\n",
    "    \n",
    "nv = ggplot(alphasPlot) + geom_density(aes(x=value,fill=variable),alpha=0.75) + \n",
    "    facet_wrap(~analysis) + \n",
    "    scale_fill_manual(\"Posterior distribution\",values = paletteSanMiguel,labels=c(expression(paste(\"Posterior \",alpha[w])), expression(paste(\"Posterior \",alpha[s])),expression(paste(\"Posterior \",alpha)))) + \n",
    "xlab(expression(alpha)) + \n",
    "    ylab(\"\") + \n",
    "    theme_bw()\n",
    "\n",
    "fwrite(df,paste0(PATH,'results/abc/tgp_map.tsv'),sep='\\t')\n",
    "ggsave(nv,filename=paste0(PATH,'results/abc/tgp/nonVips_vips_map.svg'),width=14,dpi=600)\n",
    "ggsave(nv,filename=paste0(PATH,'results/abc/tgp/nonVips_vips_map.jpg'),width=14,dpi=600)\n",
    "nv\n",
    "\"\"\""
   ]
  },
  {
   "cell_type": "markdown",
   "metadata": {
    "heading_collapsed": "true",
    "tags": []
   },
   "source": [
    "## All VIPs"
   ]
  },
  {
   "cell_type": "code",
   "execution_count": null,
   "metadata": {},
   "outputs": [],
   "source": [
    "R\"\"\"\n",
    "vipsmap$analysis = \"VIPs dataset\"\n",
    "dnaVipsMap$analysis = \"DNA-VIPs dataset\"\n",
    "rnaVipsMap$analysis = \"RNA-VIPs dataset\"\n",
    "dfVips = as.data.table(rbind(vipsmap,dnaVipsMap,rnaVipsMap))\n",
    "alphas = dfVips[,c(1:3,6)]\n",
    "names(alphas) = c(paste(expression(alpha[w])),paste(expression(alpha[s])),paste(expression(alpha)),'analysis')\n",
    "\n",
    "alphasPlot = melt(alphas)\n",
    "    \n",
    "vipsPlots = ggplot(alphasPlot) + geom_density(aes(x=value,fill=variable),alpha=0.75) + \n",
    "    facet_wrap(~analysis) + \n",
    "    scale_fill_manual(\"Posterior distribution\",values = paletteSanMiguel,labels=c(expression(paste(\"Posterior \",alpha[w])), expression(paste(\"Posterior \",alpha[s])),expression(paste(\"Posterior \",alpha)))) + \n",
    "xlab(expression(alpha)) + \n",
    "    ylab(\"\") + \n",
    "    theme_bw()\n",
    "\n",
    "fwrite(df,paste0(PATH,'results/abc/vips_comparison_map.tsv'),sep='\\t')\n",
    "ggsave(vipsPlots,filename=paste0(PATH,'results/abc/tgp/vips_comparison_map.svg'),width=14,dpi=600)\n",
    "ggsave(vipsPlots,filename=paste0(PATH,'results/abc/tgp/vips_comparison_map.jpg'),width=14,dpi=600)\n",
    "\n",
    "vipsPlots\n",
    "\"\"\""
   ]
  },
  {
   "cell_type": "code",
   "execution_count": null,
   "metadata": {},
   "outputs": [],
   "source": [
    "R\"\"\"\n",
    "d = melt(dfVips,id.vars='analysis')\n",
    "dfQ = d %>% group_by(analysis,variable) %>% summarize(q=paste0(round(mean(value),3),\" [\",quantile(round(value,3),c(0.1)),\"-\",quantile(round(value,3),0.9),\"]\"))\n",
    "dfQ = reshape2::dcast(dfQ,analysis~variable)\n",
    "\n",
    "fwrite(dfQ,paste0(PATH,'/results/abc/tgp/vips_comparison_map_quantiles.tsv',sep='\\t'))\n",
    "\"\"\""
   ]
  },
  {
   "cell_type": "markdown",
   "metadata": {
    "heading_collapsed": "true",
    "tags": []
   },
   "source": [
    "## DNA-VIPs vs RNA-VIPs"
   ]
  },
  {
   "cell_type": "code",
   "execution_count": null,
   "metadata": {},
   "outputs": [],
   "source": [
    "R\"\"\"\n",
    "dnaVipsMap$analysis = \"DNA-VIPs dataset\"\n",
    "rnaVipsMap$analysis = \"RNA-VIPs dataset\"\n",
    "dfVips = as.data.table(rbind(dnaVipsMap,rnaVipsMap))\n",
    "alphas = dfVips[,c(1:3,6)]\n",
    "names(alphas) = c(paste(expression(alpha[w])),paste(expression(alpha[s])),paste(expression(alpha)),'analysis')\n",
    "\n",
    "alphasPlot = melt(alphas)\n",
    "    \n",
    "vipsPlots = ggplot(alphasPlot) + geom_density(aes(x=value,fill=variable),alpha=0.75) + \n",
    "    facet_wrap(~analysis) + \n",
    "    scale_fill_manual(\"Posterior distribution\",values = paletteSanMiguel,labels=c(expression(paste(\"Posterior \",alpha[w])), expression(paste(\"Posterior \",alpha[s])),expression(paste(\"Posterior \",alpha)))) + \n",
    "xlab(expression(alpha)) + \n",
    "    ylab(\"\") + \n",
    "    theme_bw()\n",
    "\n",
    "fwrite(df,paste0(PATH,'results/abc/vips_comparison_map.tsv'),sep='\\t')\n",
    "ggsave(vipsPlots,filename=paste0(PATH,'results/abc/tgp/dna_rna_vips.svg'),width=14,dpi=600)\n",
    "ggsave(vipsPlots,filename=paste0(PATH,'results/abc/tgp/dna_rna_vips.jpg'),width=14,dpi=600)\n",
    "\n",
    "vipsPlots\n",
    "\"\"\""
   ]
  }
 ],
 "metadata": {
  "kernelspec": {
   "display_name": "Julia 1.6.0",
   "language": "julia",
   "name": "julia-1.6"
  },
  "language_info": {
   "file_extension": ".jl",
   "mimetype": "application/julia",
   "name": "julia",
   "version": "1.6.0"
  },
  "toc": {
   "base_numbering": 1,
   "nav_menu": {},
   "number_sections": true,
   "sideBar": true,
   "skip_h1_title": false,
   "title_cell": "Table of Contents",
   "title_sidebar": "Contents",
   "toc_cell": false,
   "toc_position": {},
   "toc_section_display": true,
   "toc_window_display": false
  }
 },
 "nbformat": 4,
 "nbformat_minor": 4
}

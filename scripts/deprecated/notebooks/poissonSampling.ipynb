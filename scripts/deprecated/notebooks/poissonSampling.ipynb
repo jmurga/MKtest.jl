{
 "cells": [
  {
   "cell_type": "code",
   "execution_count": 1,
   "metadata": {},
   "outputs": [],
   "source": [
    "using Analytical\n",
    "using Distributions\n",
    "using StatsBase\n",
    "using CSV\n",
    "using Parsers"
   ]
  },
  {
   "cell_type": "markdown",
   "metadata": {},
   "source": [
    "Loading empirical data from *mk_with_positions_BGS.txt*. Retrieving the total amount P and D of all proteins."
   ]
  },
  {
   "cell_type": "code",
   "execution_count": 2,
   "metadata": {},
   "outputs": [
    {
     "data": {
      "text/plain": [
       "2-element Array{Float64,1}:\n",
       " 323808.0\n",
       "  69660.0"
      ]
     },
     "execution_count": 2,
     "metadata": {},
     "output_type": "execute_result"
    }
   ],
   "source": [
    "observedData = Analytical.readData(\"/home/jmurga/positiveSelectionHuman/201911/results/observedData.tsv\")\n",
    "observedData = observedData[size(observedData)[1],:]"
   ]
  },
  {
   "cell_type": "markdown",
   "metadata": {},
   "source": [
    "Defining random values as paramateres and setting up estimating the binomial convolution to each B value"
   ]
  },
  {
   "cell_type": "code",
   "execution_count": 3,
   "metadata": {},
   "outputs": [
    {
     "data": {
      "text/plain": [
       "0.3"
      ]
     },
     "execution_count": 3,
     "metadata": {},
     "output_type": "execute_result"
    }
   ],
   "source": [
    "BRand = rand(append!(collect(0.25:0.05:0.95),0.999))\n",
    "gam_negRand = -rand(80:200)\n",
    "glRand = rand(10:20)\n",
    "gHRand = rand(100:500)\n",
    "alLowRand = rand(collect(0:0.1:0.4))\n",
    "alTotRand = rand(collect(0.1:0.1:0.4))"
   ]
  },
  {
   "cell_type": "code",
   "execution_count": 4,
   "metadata": {},
   "outputs": [
    {
     "data": {
      "text/plain": [
       "Analytical.parameters\n",
       "  gam_neg: Int64 -158\n",
       "  gL: Int64 16\n",
       "  gH: Int64 397\n",
       "  alLow: Float64 0.4\n",
       "  alTot: Float64 0.3\n",
       "  theta_f: Float64 0.001\n",
       "  theta_mid_neutral: Float64 0.001\n",
       "  al: Float64 0.184\n",
       "  be: Float64 0.000402\n",
       "  B: Float64 0.7\n",
       "  bRange: Array{Float64}((17,)) [0.2, 0.25, 0.3, 0.35, 0.4, 0.45, 0.5, 0.55, 0.6, 0.65, 0.7, 0.75, 0.8, 0.85, 0.9, 0.95, 0.999]\n",
       "  pposL: Float64 0.001\n",
       "  pposH: Float64 0.0\n",
       "  N: Int64 1000\n",
       "  n: Int64 661\n",
       "  Lf: Int64 1000000\n",
       "  rho: Float64 0.001\n",
       "  TE: Float64 5.0\n",
       "  NN: Int64 2000\n",
       "  nn: Int64 1322\n",
       "  bn: Dict{Float64,Array{Float64,2}}\n"
      ]
     },
     "execution_count": 4,
     "metadata": {},
     "output_type": "execute_result"
    }
   ],
   "source": [
    "Analytical.changeParameters(gam_neg=gam_negRand,gL=glRand,gH=gHRand,alLow=alLowRand,alTot=alTotRand,theta_f=1e-3,theta_mid_neutral=1e-3,al=0.184,be=0.000402,B=BRand,bRange=append!(collect(0.2:0.05:0.95),0.999),pposL=0.001,pposH=0,N=1000,n=661,Lf=10^6,rho=0.001,TE=5.0,convoluteBinomial=true)\n",
    "adap"
   ]
  },
  {
   "cell_type": "markdown",
   "metadata": {},
   "source": [
    "### **Sampling values from Poisson Distribution**"
   ]
  },
  {
   "cell_type": "markdown",
   "metadata": {},
   "source": [
    "**Estimating manually $\\alpha_{(x)}$ to check the Poisson sampling. The next analysis will be performed with the total sum of $D$ and $P$, taking into account all the proteins. However,** ```observedValue``` **at the next functions could be an array of observed values. The *dot* before any operation in Julia means *element-wise*, in this way we can sample in one $\\alpha_{(x)}$ estimation any subset of protein data.**\n"
   ]
  },
  {
   "cell_type": "code",
   "execution_count": 5,
   "metadata": {},
   "outputs": [
    {
     "data": {
      "text/plain": [
       "0.7"
      ]
     },
     "execution_count": 5,
     "metadata": {},
     "output_type": "execute_result"
    }
   ],
   "source": [
    "# Setting up the analysis\n",
    "Analytical.set_theta_f()\n",
    "theta_f = adap.theta_f\n",
    "adap.B = 0.999\n",
    "Analytical.set_theta_f()\n",
    "Analytical.setPpos()\n",
    "adap.theta_f = theta_f\n",
    "adap.B = BRand"
   ]
  },
  {
   "cell_type": "markdown",
   "metadata": {},
   "source": [
    "#### **Expected fixation and poisson sampling**"
   ]
  },
  {
   "cell_type": "markdown",
   "metadata": {},
   "source": [
    "```julia\n",
    "function poissonFixation(;observedValue, λds, λdn)\n",
    "\n",
    "    poissonS  = (λds/(λds + λdn) .* observedValue) .|> Poisson\n",
    "    poissonD  = (λdn/(λds + λdn) .* observedValue) .|> Poisson\n",
    "\n",
    "    sampledDs = rand.(poissonS,1)\n",
    "    sampledDn = rand.(poissonD,1)\n",
    "\n",
    "    return(reduce(vcat,sampledDs),reduce(vcat,sampledDn))\n",
    "end\n",
    "```"
   ]
  },
  {
   "cell_type": "code",
   "execution_count": 6,
   "metadata": {},
   "outputs": [
    {
     "data": {
      "text/plain": [
       "0.0006446929366785066"
      ]
     },
     "execution_count": 6,
     "metadata": {},
     "output_type": "execute_result"
    }
   ],
   "source": [
    "# Fixation\n",
    "D = observedData[2]\n",
    "\n",
    "fN    = adap.B*Analytical.fixNeut()*(adap.theta_mid_neutral/2.0)*adap.TE*adap.NN\n",
    "fNeg  = adap.B*Analytical.fixNegB(0.5*adap.pposH+0.5*adap.pposL)*(adap.theta_mid_neutral/2.0)*adap.TE*adap.NN\n",
    "fPosL = Analytical.fixPosSim(adap.gL,0.5*adap.pposL)*(adap.theta_mid_neutral/2.0)*adap.TE*adap.NN\n",
    "fPosH = Analytical.fixPosSim(adap.gH,0.5*adap.pposH)*(adap.theta_mid_neutral/2.0)*adap.TE*adap.NN\n",
    "\n",
    "ds = fN\n",
    "dn = fNeg + fPosL + fPosH"
   ]
  },
  {
   "cell_type": "code",
   "execution_count": 7,
   "metadata": {},
   "outputs": [
    {
     "data": {
      "text/plain": [
       "1×2 Array{Int64,2}:\n",
       " 34479  34878"
      ]
     },
     "execution_count": 7,
     "metadata": {},
     "output_type": "execute_result"
    }
   ],
   "source": [
    "expectedDs,expectedDn = Analytical.poissonFixation(observedValue=D, λds=ds, λdn=dn)\n",
    "hcat(expectedDs,expectedDn)"
   ]
  },
  {
   "cell_type": "markdown",
   "metadata": {},
   "source": [
    "#### **Expected polymorphism and poisson sampling**"
   ]
  },
  {
   "cell_type": "markdown",
   "metadata": {},
   "source": [
    "**Option 1: getting the expected $Ps$ and $Pn$ for each expected value in $ps$, and $pn$. It means to get randomly $Ps$ and $Pn$ in each frequency using the total number of $P$. Initially, I did the same but I sampled the polymorphism using $ps$ and $pn$ as ```sum(ps)``` and  ```sum(pn)``` respectively.**"
   ]
  },
  {
   "cell_type": "markdown",
   "metadata": {},
   "source": [
    "```julia\n",
    "function poissonPolymorphism(;observedValues, λps, λpn)\n",
    "\n",
    "    psPois(x,y=λps,z=λpn) = reduce(vcat,rand.((y./(y .+ z) .* x) .|> Poisson,1))\n",
    "    pnPois(x,y=λps,z=λpn) = reduce(vcat,rand.((z./(y .+ z) .* x) .|> Poisson,1))\n",
    "    \n",
    "    sampledPs = observedValues .|> psPois # We can apply here any statistic measure\n",
    "    sampledPn = observedValues .|> pnPois # We can apply here any statistic measure\n",
    "    \n",
    "    return sampledPs,sampledPn\n",
    "end\n",
    "```"
   ]
  },
  {
   "cell_type": "code",
   "execution_count": 8,
   "metadata": {},
   "outputs": [
    {
     "data": {
      "text/plain": [
       "1321-element Array{Float64,1}:\n",
       " 0.5790170953435917 \n",
       " 0.5656628891077868 \n",
       " 0.5541880016517515 \n",
       " 0.5456884743660402 \n",
       " 0.5393000713939385 \n",
       " 0.5342358383671977 \n",
       " 0.5300489821647711 \n",
       " 0.5264855173444986 \n",
       " 0.5233876787000579 \n",
       " 0.5206504823616441 \n",
       " 0.5182006042356017 \n",
       " 0.5159848694705216 \n",
       " 0.5139635175555217 \n",
       " ⋮                  \n",
       " 0.41752252470151235\n",
       " 0.41750885759459405\n",
       " 0.4174952057785283 \n",
       " 0.417481570734846  \n",
       " 0.4174679547628089 \n",
       " 0.41745436161278965\n",
       " 0.41744079768074066\n",
       " 0.417427274426912  \n",
       " 0.41741381446546094\n",
       " 0.4174004741063232 \n",
       " 0.41738743467557765\n",
       " 0.4173752560357667 "
      ]
     },
     "execution_count": 8,
     "metadata": {},
     "output_type": "execute_result"
    }
   ],
   "source": [
    "# Polymorphism. Getting adap.*2 values. One per frequency estimated\n",
    "P = observedData[1]\n",
    "\n",
    "neut = Analytical.cumulativeSfs(Analytical.DiscSFSNeutDown())\n",
    "selN = Analytical.cumulativeSfs(Analytical.DiscSFSSelNegDown(adap.pposH+adap.pposL))\n",
    "sel = selN\n",
    "\n",
    "ps = neut ./ (sel.+neut); ps = ps[1:end-1]  \n",
    "pn = sel ./ (sel.+neut); pn = pn[1:end-1]"
   ]
  },
  {
   "cell_type": "code",
   "execution_count": 9,
   "metadata": {},
   "outputs": [
    {
     "data": {
      "text/plain": [
       "1321×2 Array{Int64,2}:\n",
       " 136040  187315\n",
       " 140547  182794\n",
       " 144310  179808\n",
       " 146996  175958\n",
       " 148814  173927\n",
       " 151518  172495\n",
       " 152605  171454\n",
       " 153064  170424\n",
       " 154318  169203\n",
       " 154999  168746\n",
       " 155454  167940\n",
       " 157168  167091\n",
       " 157000  165759\n",
       "      ⋮        \n",
       " 188301  135196\n",
       " 189160  134868\n",
       " 188345  135229\n",
       " 188903  135088\n",
       " 189148  135509\n",
       " 188879  134887\n",
       " 188359  134821\n",
       " 187560  134989\n",
       " 188071  134808\n",
       " 188923  135012\n",
       " 188783  135705\n",
       " 188584  135239"
      ]
     },
     "execution_count": 9,
     "metadata": {},
     "output_type": "execute_result"
    }
   ],
   "source": [
    "expectedPs, expectedPn = Analytical.poissonPolymorphism(observedValues = P, λps=ps, λpn=pn)\n",
    "hcat(expectedPs,expectedPn)"
   ]
  },
  {
   "cell_type": "code",
   "execution_count": 10,
   "metadata": {},
   "outputs": [
    {
     "data": {
      "text/plain": [
       "182540.7047691143"
      ]
     },
     "execution_count": 10,
     "metadata": {},
     "output_type": "execute_result"
    }
   ],
   "source": [
    "mean(expectedPs)"
   ]
  },
  {
   "cell_type": "code",
   "execution_count": 11,
   "metadata": {},
   "outputs": [
    {
     "data": {
      "text/plain": [
       "141240.35579106738"
      ]
     },
     "execution_count": 11,
     "metadata": {},
     "output_type": "execute_result"
    }
   ],
   "source": [
    "mean(expectedPn)"
   ]
  },
  {
   "cell_type": "markdown",
   "metadata": {},
   "source": [
    "**Option 2: sample the total number of $Pn$ and $Ps$ through the expected number of polymorphic sites by frequency category ($Pn_{(x)}$, $Ps_{(x)}$)**"
   ]
  },
  {
   "cell_type": "markdown",
   "metadata": {},
   "source": [
    "```julia\n",
    "function poissonPolymorphism2(;observedValues, λps, λpn)\n",
    "\n",
    "    psPois(x,y=λps,z=λpn) = reduce(vcat,rand.((y./(y .+ z) .* x) .|> Poisson,1))\n",
    "    pnPois(x,y=λps,z=λpn) = reduce(vcat,rand.((z./(y .+ z) .* x) .|> Poisson,1))\n",
    "    \n",
    "    sampledPs = observedValues .|> psPois # We can apply here any statistic measure\n",
    "    sampledPn = observedValues .|> pnPois # We can apply here any statistic measure\n",
    "    \n",
    "    return sum(reduce(vcat,sampledPs)), sum(reduce(vcat,sampledPn))\n",
    "end\n",
    "```"
   ]
  },
  {
   "cell_type": "code",
   "execution_count": null,
   "metadata": {},
   "outputs": [],
   "source": [
    "proteinData = CSV.read(\"/home/jmurga/mktest/data/mk_with_positions_BGS.txt\",header=false,delim=' ')"
   ]
  },
  {
   "cell_type": "code",
   "execution_count": 13,
   "metadata": {},
   "outputs": [
    {
     "data": {
      "text/plain": [
       "parseSfs (generic function with 1 method)"
      ]
     },
     "execution_count": 13,
     "metadata": {},
     "output_type": "execute_result"
    }
   ],
   "source": [
    "function parseSfs(data,column)\n",
    "    \n",
    "    tmp = split.(data[:,column], \",\")\n",
    "    f(x) = Parsers.parse.(Float64,x[2:end-1])\n",
    "    tmp = round.(reduce(vcat,tmp .|> f),digits=4) |> StatsBase.countmap\n",
    "    \n",
    "    x = zeros(adap.nn)\n",
    "    for i in 1:adap.nn\n",
    "        try\n",
    "            x[i] = tmp[round.((i/adap.nn),digits=4)]\n",
    "        catch\n",
    "            x[i] = 0\n",
    "        end\n",
    "    end\n",
    "    return(x)\n",
    "end"
   ]
  },
  {
   "cell_type": "markdown",
   "metadata": {},
   "source": [
    "Here I obtained the total polymorphism by frequency bins"
   ]
  },
  {
   "cell_type": "code",
   "execution_count": 14,
   "metadata": {},
   "outputs": [
    {
     "data": {
      "text/plain": [
       "1321-element Array{Float64,1}:\n",
       " 151457.0\n",
       "  34174.0\n",
       "  16251.0\n",
       "   9980.0\n",
       "   7289.0\n",
       "   5804.0\n",
       "   4529.0\n",
       "   3883.0\n",
       "   3218.0\n",
       "   3025.0\n",
       "   2622.0\n",
       "   2316.0\n",
       "   2125.0\n",
       "      ⋮  \n",
       "     50.0\n",
       "     45.0\n",
       "     55.0\n",
       "     70.0\n",
       "     64.0\n",
       "     91.0\n",
       "     89.0\n",
       "     94.0\n",
       "    139.0\n",
       "    171.0\n",
       "    300.0\n",
       "    883.0"
      ]
     },
     "execution_count": 14,
     "metadata": {},
     "output_type": "execute_result"
    }
   ],
   "source": [
    "Pn = parseSfs(proteinData,3)\n",
    "Ps = parseSfs(proteinData,5)\n",
    "Psfs = Pn .+ Ps; Psfs = Psfs[1:end-1]"
   ]
  },
  {
   "cell_type": "code",
   "execution_count": 15,
   "metadata": {},
   "outputs": [
    {
     "data": {
      "text/plain": [
       "(150417, 178388)"
      ]
     },
     "execution_count": 15,
     "metadata": {},
     "output_type": "execute_result"
    }
   ],
   "source": [
    "expectedPs2, expectedPn2 = Analytical.poissonPolymorphism2(;observedValues=[Psfs], λps=ps, λpn=pn)"
   ]
  },
  {
   "cell_type": "markdown",
   "metadata": {},
   "source": [
    "Summary statistics: $Ds$, $Dn$, $Ps$ $Pn$, $\\alpha_{(x\\_withoutPositiveAlleles)}$"
   ]
  },
  {
   "cell_type": "code",
   "execution_count": 16,
   "metadata": {},
   "outputs": [
    {
     "data": {
      "text/plain": [
       "1×5 Array{Float64,2}:\n",
       " 34479.0  34878.0  150417.0  178388.0  0.291622"
      ]
     },
     "execution_count": 16,
     "metadata": {},
     "output_type": "execute_result"
    }
   ],
   "source": [
    "ret = 1 .- (fN/(fPosL + fPosH+  fNeg+0.0)) .* (sel./neut)\n",
    "ret = ret[1:end-1]\n",
    "\n",
    "summaryStatistics = hcat(expectedDs,expectedDn,expectedPs2,expectedPn2,ret[lastindex(ret)])"
   ]
  },
  {
   "cell_type": "markdown",
   "metadata": {},
   "source": [
    "### Checking in-built loop multithreading"
   ]
  },
  {
   "cell_type": "markdown",
   "metadata": {},
   "source": [
    "In Julia you can easily parallelize a loop using ```$ export JULIA_NUM_THREADS=4```. Each iteration will be executed in a thread. In order to check the threads configured, just use in the julia console ```julia> Threads.nthreads()``` before the execution."
   ]
  },
  {
   "cell_type": "code",
   "execution_count": null,
   "metadata": {},
   "outputs": [],
   "source": [
    "a = zeros(20)\n",
    "b = zeros(20)\n",
    "@time Threads.@threads for i in 1:20\n",
    "    a[i] = Threads.threadid()\n",
    "    Analytical.changeParameters(gam_neg=-83,gL=10,gH=rand(100:500),alLow=0.2,alTot=0.2,theta_f=1e-3,theta_mid_neutral=1e-3,al=0.184,be=0.000402,B=0.999,bRange=[0.2,0.25,0.3,0.35,0.4,0.45,0.5,0.55,0.6,0.65,0.7,0.75,0.8,0.85,0.9,0.95,0.999],pposL=0.001,pposH=0,N=1000,n=661,Lf=10^6,rho=0.001,TE=5.0,convoluteBinomial=true)\n",
    "    b[i] = adap.gH\n",
    "end"
   ]
  },
  {
   "cell_type": "code",
   "execution_count": 1,
   "metadata": {},
   "outputs": [
    {
     "output_type": "error",
     "ename": "SyntaxError",
     "evalue": "invalid syntax (<ipython-input-1-762049fda90d>, line 1)",
     "traceback": [
      "\u001b[0;36m  File \u001b[0;32m\"<ipython-input-1-762049fda90d>\"\u001b[0;36m, line \u001b[0;32m1\u001b[0m\n\u001b[0;31m    using Gadfly\u001b[0m\n\u001b[0m          ^\u001b[0m\n\u001b[0;31mSyntaxError\u001b[0m\u001b[0;31m:\u001b[0m invalid syntax\n"
     ]
    }
   ],
   "source": [
    "using Gadfly"
   ]
  }
 ],
 "metadata": {
  "kernelspec": {
   "display_name": "Python 3.7.6 64-bit ('base': conda)",
   "language": "julia",
   "name": "python37664bitbasecondab7ce576afaaa4d21b146e39089346cc9"
  },
  "language_info": {
   "file_extension": ".jl",
   "mimetype": "application/julia",
   "name": "julia",
   "version": "3.7.6-final"
  }
 },
 "nbformat": 4,
 "nbformat_minor": 4
}